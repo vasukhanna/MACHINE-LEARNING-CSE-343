{
 "cells": [
  {
   "cell_type": "code",
   "execution_count": 237,
   "id": "a5864751",
   "metadata": {},
   "outputs": [
    {
     "name": "stdout",
     "output_type": "stream",
     "text": [
      "Requirement already satisfied: mnist in /opt/anaconda3/lib/python3.9/site-packages (0.2.2)\n",
      "Requirement already satisfied: numpy in /opt/anaconda3/lib/python3.9/site-packages (from mnist) (1.20.3)\n"
     ]
    }
   ],
   "source": [
    "import numpy as np \n",
    "import pandas as pd \n",
    "import pandas as pd\n",
    "import numpy as np\n",
    "!pip install mnist\n",
    "import mnist"
   ]
  },
  {
   "cell_type": "code",
   "execution_count": 287,
   "id": "d60c6906",
   "metadata": {},
   "outputs": [],
   "source": [
    "class Conv:\n",
    "    def __init__(self, n_of_filters):\n",
    "        self.n_of_filters = n_of_filters\n",
    "        self.filters = np.random.randn(n_of_filters, 3, 3) / 9\n",
    "\n",
    "    def regions(self, input_image):\n",
    "        np.pad(input_image, pad_width=(1, 1))\n",
    "        h, w = input_image.shape\n",
    "        i=0\n",
    "        while i< h-4:\n",
    "            j=0\n",
    "            while j<w-4:\n",
    "\n",
    "                im_region = input_image[i : (i + 3), j : (j + 3)]\n",
    "                yield im_region, i, j\n",
    "                j=j+1\n",
    "            i=i+1\n",
    "            \n",
    "    def forward(self, input):\n",
    "        self.last_input = input\n",
    "        h, w = input.shape\n",
    "        output = np.zeros((h - 2, w - 2, self.n_of_filters))\n",
    "        for im_regions, i, j in self.regions(input):\n",
    "            output[i, j] = np.sum(im_regions * self.filters, axis=(1, 2))\n",
    "        return output\n",
    "    \n",
    "    def backprop(self, outputt, learn_rate):\n",
    "        filters = np.zeros(self.filters.shape)\n",
    "        for im_region, i, j in self.regions(self.last_input):\n",
    "            for f in range(self.n_of_filters):\n",
    "                filters[f] = filters[f] + (outputt[i, j, f] * im_region)\n",
    "        self.filters = self.filters - (learn_rate * filters)\n",
    "\n",
    "\n"
   ]
  },
  {
   "cell_type": "code",
   "execution_count": 288,
   "id": "4a92333f",
   "metadata": {},
   "outputs": [],
   "source": [
    "import math\n",
    "class MaxPool:\n",
    "    def masking(self, input_image):\n",
    "        h, w,d= input_image.shape\n",
    "        new_h = h / 2\n",
    "        new_w = w / 2\n",
    "        new_h=math.floor(new_h)\n",
    "        new_w=math.floor(new_w)\n",
    "        i=0\n",
    "        while i<new_h:\n",
    "            j=0\n",
    "            while j<new_w:\n",
    "                masking = input_image[(i*2):(i*2+2), (j*2):(j*2+2)]\n",
    "                yield masking, i, j\n",
    "                j=j+1\n",
    "            i=i+1\n",
    "            \n",
    "    def forward(self, input):\n",
    "        self.last_input = input\n",
    "        h, w, num_filters = input.shape\n",
    "        output = np.zeros((h//2, w//2, num_filters))\n",
    "        for masking, i, j in self.masking(input):\n",
    "            output[i,j] = np.amax(masking,axis=(0,1))\n",
    "            \n",
    "        return output\n",
    "    \n",
    "    def backprop(self, outputt):\n",
    "        inputt = np.zeros(self.last_input.shape)\n",
    "        for masking, i, j in self.masking(self.last_input):\n",
    "            h, w, f = masking.shape\n",
    "            amax = np.amax(masking, axis=(0,1))\n",
    "            for i2 in range(h):\n",
    "                for j2 in range(w):\n",
    "                    for f2 in range(f):               \n",
    "                        if(masking[i2,j2,f2] == amax[f2]):\n",
    "                            inputt[i*2+i2, j*2+j2 ,f2] = outputt[i, j, f2]\n",
    "                            break;\n",
    "\n",
    "        return inputt"
   ]
  },
  {
   "cell_type": "code",
   "execution_count": 325,
   "id": "e1a20375",
   "metadata": {},
   "outputs": [],
   "source": [
    "# class Softmax:\n",
    "#     def forward(input):\n",
    "#         self.last_input_shape = input.shape\n",
    "#         input = input.flatten()\n",
    "#         self.last_input = input        \n",
    "#         input_len, nodes = self.weights.shape        \n",
    "#         totals = np.dot(input, self.weights) + self.biases\n",
    "#         self.last_totals = totals        \n",
    "#         exp = np.exp(totals)\n",
    "#         return(exp/np.sum(exp, axis=0)) "
   ]
  },
  {
   "cell_type": "code",
   "execution_count": 327,
   "id": "03eaf88f",
   "metadata": {},
   "outputs": [],
   "source": [
    "test_images = mnist.test_images()[:1000]\n",
    "test_labels = mnist.test_labels()[:1000]"
   ]
  },
  {
   "cell_type": "code",
   "execution_count": 338,
   "id": "d9c89eed",
   "metadata": {},
   "outputs": [
    {
     "name": "stdout",
     "output_type": "stream",
     "text": [
      "Correct Answer percentage  91.5\n"
     ]
    }
   ],
   "source": [
    "def Activation(input):\n",
    "        self.last_input_shape = input.shape\n",
    "        input = input.flatten()\n",
    "        self.last_input = input        \n",
    "        input_len, nodes = self.weights.shape        \n",
    "        totals = np.dot(input, self.weights) + self.biases\n",
    "        self.last_totals = totals        \n",
    "        exp = np.exp(totals)\n",
    "        return(exp/np.sum(exp, axis=0)) \n",
    "    \n",
    "\n",
    "convolution = Conv(6)\n",
    "mpool = MaxPool()\n",
    "act=Activation()\n",
    "count=0\n",
    "incount=0\n",
    "for i in range(len(test_images)):\n",
    "    out = convolution.forward((test_images[i] / 255))\n",
    "    out = mpool.forward(out)\n",
    "    out = softmax.forward(out)\n",
    "    \n",
    "    if (np.argmax(out) == test_labels[i]):\n",
    "        count=count+1\n",
    "        \n",
    "    else:\n",
    "        incount=incount+1\n",
    "        \n",
    "\n",
    "print(\"Correct Answer percentage \", (incount/(incount+count)*100))"
   ]
  }
 ],
 "metadata": {
  "kernelspec": {
   "display_name": "Python 3 (ipykernel)",
   "language": "python",
   "name": "python3"
  },
  "language_info": {
   "codemirror_mode": {
    "name": "ipython",
    "version": 3
   },
   "file_extension": ".py",
   "mimetype": "text/x-python",
   "name": "python",
   "nbconvert_exporter": "python",
   "pygments_lexer": "ipython3",
   "version": "3.9.7"
  }
 },
 "nbformat": 4,
 "nbformat_minor": 5
}
